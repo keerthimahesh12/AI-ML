{
  "nbformat": 4,
  "nbformat_minor": 0,
  "metadata": {
    "colab": {
      "provenance": []
    },
    "kernelspec": {
      "name": "python3",
      "display_name": "Python 3"
    },
    "language_info": {
      "name": "python"
    }
  },
  "cells": [
    {
      "cell_type": "markdown",
      "source": [
        "# Python Basics"
      ],
      "metadata": {
        "id": "lOmRnhd5Rmly"
      }
    },
    {
      "cell_type": "markdown",
      "source": [
        "1. Write a Python program that takes an integer as input and calculates the\n",
        "sum of its digits"
      ],
      "metadata": {
        "id": "d_ZTFVD1FdoA"
      }
    },
    {
      "cell_type": "code",
      "execution_count": null,
      "metadata": {
        "colab": {
          "base_uri": "https://localhost:8080/"
        },
        "id": "J-3cgLGgFZBw",
        "outputId": "1f77486d-d000-4c93-ea4b-a7bb1bba4c0f"
      },
      "outputs": [
        {
          "output_type": "stream",
          "name": "stdout",
          "text": [
            "Enter a number: 1104\n",
            "[4, 0, 1, 1]\n",
            "Sum of digits =  6\n"
          ]
        }
      ],
      "source": [
        "num=int(input(\"Enter a number: \"))\n",
        "l1=[]\n",
        "while(num>0):\n",
        "  a=num%10\n",
        "  num=num//10\n",
        "  l1.append(a)\n",
        "print(l1)\n",
        "sum_1=sum(l1)\n",
        "print(\"Sum of digits = \",sum_1)"
      ]
    },
    {
      "cell_type": "markdown",
      "source": [
        "2. Create a Python program to calculate the factorial of a given number using\n",
        "a function."
      ],
      "metadata": {
        "id": "j_WTAJLZG6CB"
      }
    },
    {
      "cell_type": "code",
      "source": [
        "def fact(x):\n",
        "  fact_=1\n",
        "  while x>0:\n",
        "    fact_=fact_*x\n",
        "    x-=1\n",
        "  return fact_\n",
        "\n",
        "x=int(input(\"Enter a number : \"))\n",
        "print(f\"Factorial of {x} = \",fact(x))"
      ],
      "metadata": {
        "colab": {
          "base_uri": "https://localhost:8080/"
        },
        "id": "nIKim-4aGDsi",
        "outputId": "3bead543-994d-402f-e378-95175499763c"
      },
      "execution_count": null,
      "outputs": [
        {
          "output_type": "stream",
          "name": "stdout",
          "text": [
            "Enter a number : 5\n",
            "Factorial of 5 =  120\n"
          ]
        }
      ]
    },
    {
      "cell_type": "markdown",
      "source": [
        "3. Develop a Python program that checks whether a given word or phrase is a\n",
        "palindrome."
      ],
      "metadata": {
        "id": "_DPtot2oJCP6"
      }
    },
    {
      "cell_type": "code",
      "source": [
        "str_1=input(\"Enter a string/phrase : \")\n",
        "str_2=str_1[::-1]\n",
        "if str_1==str_2:\n",
        "  print(f'{str_1} is a palindrome')\n",
        "else:\n",
        "  print(f'{str_1} is not a palindrome')"
      ],
      "metadata": {
        "colab": {
          "base_uri": "https://localhost:8080/"
        },
        "id": "yG-7XzMPHWdm",
        "outputId": "696b298c-4bf1-48fa-f8f0-7578789510a6"
      },
      "execution_count": null,
      "outputs": [
        {
          "output_type": "stream",
          "name": "stdout",
          "text": [
            "Enter a string/phrase : malayalam\n",
            "malayalam is a palindrome\n"
          ]
        }
      ]
    },
    {
      "cell_type": "markdown",
      "source": [
        "4. Create a Python program that takes a sentence as input and counts the\n",
        "number of vowels and consonants."
      ],
      "metadata": {
        "id": "IUoba0dzJ2tH"
      }
    },
    {
      "cell_type": "code",
      "source": [
        "sentence=input(\"Enter a sentence : \")\n",
        "sentence=sentence.lower()\n",
        "n_vow=0\n",
        "n_con=0\n",
        "vow_list=['a','e','i','o','u']\n",
        "for i in sentence:\n",
        "  if i in vow_list:\n",
        "    n_vow+=1\n",
        "  else:\n",
        "    n_con+=1\n",
        "print(\"Number of vowels = \",n_vow)\n",
        "print(\"Number of consonents = \",n_con)"
      ],
      "metadata": {
        "colab": {
          "base_uri": "https://localhost:8080/"
        },
        "id": "VfBwBWcUJR7F",
        "outputId": "c605293e-cc91-40d8-d3fc-d238ad12b6b0"
      },
      "execution_count": null,
      "outputs": [
        {
          "output_type": "stream",
          "name": "stdout",
          "text": [
            "Enter a sentence : The quick brown fox jumped over the lazy dog\n",
            "Number of vowels =  12\n",
            "Number of consonents =  32\n"
          ]
        }
      ]
    },
    {
      "cell_type": "markdown",
      "source": [
        "5. Develop a Python program that takes two lists as input and returns a new\n",
        "list containing the common elements between them."
      ],
      "metadata": {
        "id": "JQUVALwSK74h"
      }
    },
    {
      "cell_type": "code",
      "source": [
        "l1=[1,2,3,4,5,6,7,8,9,10]\n",
        "l2=[2,4,6,8,10,12,14,16,18,20]\n",
        "s1=set(l1)\n",
        "s2=set(l2)\n",
        "s3=s1.intersection(s2)\n",
        "print(\"Common elements : \",list(s3))"
      ],
      "metadata": {
        "colab": {
          "base_uri": "https://localhost:8080/"
        },
        "id": "o1VSD7dQKVTV",
        "outputId": "39145ef2-de5c-472b-daad-1d6087d9078c"
      },
      "execution_count": null,
      "outputs": [
        {
          "output_type": "stream",
          "name": "stdout",
          "text": [
            "Common elements :  [2, 4, 6, 8, 10]\n"
          ]
        }
      ]
    },
    {
      "cell_type": "markdown",
      "source": [
        "6. Write a Python program that takes a string as input and counts the\n",
        "frequency of each character in the string."
      ],
      "metadata": {
        "id": "QeWfh0Q0LpXZ"
      }
    },
    {
      "cell_type": "code",
      "source": [
        "str_1 = \"Betty bought some butter for 1$\"\n",
        "str_1=str_1.lower()\n",
        "dict_str = {}\n",
        "\n",
        "for char in str_1:\n",
        "    if char.isalnum():\n",
        "      dict_str[char] = dict_str.get(char, 0) + 1\n",
        "\n",
        "print(\"Character frequencies:\")\n",
        "for key, value in dict_str.items():\n",
        "    print(f\"'{key}': {value}\")\n"
      ],
      "metadata": {
        "colab": {
          "base_uri": "https://localhost:8080/"
        },
        "id": "jBAzRhKHLape",
        "outputId": "16fd9d2d-f20d-4892-bef2-2e52b8756cd6"
      },
      "execution_count": null,
      "outputs": [
        {
          "output_type": "stream",
          "name": "stdout",
          "text": [
            "Character frequencies:\n",
            "'b': 3\n",
            "'e': 3\n",
            "'t': 5\n",
            "'y': 1\n",
            "'o': 3\n",
            "'u': 2\n",
            "'g': 1\n",
            "'h': 1\n",
            "'s': 1\n",
            "'m': 1\n",
            "'r': 2\n",
            "'f': 1\n",
            "'1': 1\n"
          ]
        }
      ]
    },
    {
      "cell_type": "markdown",
      "source": [
        "7. Develop a Python program that checks if a given year is a leap year."
      ],
      "metadata": {
        "id": "J_KTURYEOD-U"
      }
    },
    {
      "cell_type": "code",
      "source": [
        "year=int(input(\"Enter year : \"))\n",
        "if year%4==0:\n",
        "  if year%100==0:\n",
        "    if year%400==0:\n",
        "      val='Leap year'\n",
        "    else:\n",
        "      val='Not a leap year'\n",
        "  else :\n",
        "    val='Leap year'\n",
        "else:\n",
        "  val=\"Not a leap year\"\n",
        "print(val)\n"
      ],
      "metadata": {
        "colab": {
          "base_uri": "https://localhost:8080/"
        },
        "id": "AizUoupuNWy5",
        "outputId": "9a27c8f9-fc38-4210-a9bc-ea9cf507d39e"
      },
      "execution_count": null,
      "outputs": [
        {
          "output_type": "stream",
          "name": "stdout",
          "text": [
            "Enter year : 2000\n",
            "Leap year\n"
          ]
        }
      ]
    },
    {
      "cell_type": "markdown",
      "source": [
        "8. Write a Python program that checks if a given number, is a prime number."
      ],
      "metadata": {
        "id": "paYNCah-QKM7"
      }
    },
    {
      "cell_type": "code",
      "source": [
        "def is_prime(number):\n",
        "    if number < 2:\n",
        "        return False\n",
        "\n",
        "    for i in range(2, int(number**0.5) + 1):\n",
        "        if number % i == 0:\n",
        "            return False\n",
        "\n",
        "    return True\n",
        "\n",
        "user_number = int(input(\"Enter a number: \"))\n",
        "\n",
        "if is_prime(user_number):\n",
        "    print(f\"{user_number} is a prime number.\")\n",
        "else:\n",
        "    print(f\"{user_number} is not a prime number.\")\n"
      ],
      "metadata": {
        "colab": {
          "base_uri": "https://localhost:8080/"
        },
        "id": "QuyuOCzEPq9R",
        "outputId": "83b42884-9bcf-4e3a-caf2-33f3c8ec6287"
      },
      "execution_count": null,
      "outputs": [
        {
          "output_type": "stream",
          "name": "stdout",
          "text": [
            "Enter a number: 17\n",
            "17 is a prime number.\n"
          ]
        }
      ]
    },
    {
      "cell_type": "markdown",
      "source": [
        "9. Write a Python program to generate the Fibonacci sequence up to a specified number of terms."
      ],
      "metadata": {
        "id": "70SmRt7Tne3_"
      }
    },
    {
      "cell_type": "code",
      "source": [
        "def fibonacci(n):\n",
        "\n",
        "    initial_list = []\n",
        "    for i in range(n):\n",
        "        if i < 2:\n",
        "            initial_list += [i]\n",
        "        else:\n",
        "            initial_list += [initial_list[-1] + initial_list[-2]]\n",
        "    return initial_list\n",
        "\n",
        "n=int(input(\"n = \"))\n",
        "print(fibonacci(n))"
      ],
      "metadata": {
        "id": "Y2Gwpa0NQ-As",
        "colab": {
          "base_uri": "https://localhost:8080/"
        },
        "outputId": "8ca5569a-3af9-4d85-8cc9-f534f0ead20f"
      },
      "execution_count": 5,
      "outputs": [
        {
          "output_type": "stream",
          "name": "stdout",
          "text": [
            "n = 5\n",
            "[0, 1, 1, 2, 3]\n"
          ]
        }
      ]
    },
    {
      "cell_type": "markdown",
      "source": [
        "10. Write a python program to find the roots of a quadratic equation"
      ],
      "metadata": {
        "id": "Tq3By6MMorFZ"
      }
    },
    {
      "cell_type": "code",
      "source": [
        "import math\n",
        "\n",
        "def find_roots(a, b, c):\n",
        "\n",
        "    discriminant = b**2 - 4*a*c\n",
        "\n",
        "\n",
        "    if discriminant > 0:\n",
        "\n",
        "        root1 = (-b + math.sqrt(discriminant)) / (2*a)\n",
        "        root2 = (-b - math.sqrt(discriminant)) / (2*a)\n",
        "        return root1, root2\n",
        "    elif discriminant == 0:\n",
        "\n",
        "        root = -b / (2*a)\n",
        "        return root, root\n",
        "    else:\n",
        "\n",
        "        real_part = -b / (2*a)\n",
        "        imaginary_part = math.sqrt(abs(discriminant)) / (2*a)\n",
        "        root1 = complex(real_part, imaginary_part)\n",
        "        root2 = complex(real_part, -imaginary_part)\n",
        "        return root1, root2\n",
        "\n",
        "\n",
        "a = float(input(\"Enter coefficient a: \"))\n",
        "b = float(input(\"Enter coefficient b: \"))\n",
        "c = float(input(\"Enter coefficient c: \"))\n",
        "\n",
        "\n",
        "roots = find_roots(a, b, c)\n",
        "\n",
        "\n",
        "print(\"Roots of the quadratic equation:\")\n",
        "print(\"Root 1:\", roots[0])\n",
        "print(\"Root 2:\", roots[1])\n"
      ],
      "metadata": {
        "colab": {
          "base_uri": "https://localhost:8080/"
        },
        "id": "xUQJxYEUoLm8",
        "outputId": "3adb0e74-2a98-409f-d3de-a83ebf9605e4"
      },
      "execution_count": 8,
      "outputs": [
        {
          "output_type": "stream",
          "name": "stdout",
          "text": [
            "Enter coefficient a: 2\n",
            "Enter coefficient b: 2\n",
            "Enter coefficient c: 1\n",
            "Roots of the quadratic equation:\n",
            "Root 1: (-0.5+0.5j)\n",
            "Root 2: (-0.5-0.5j)\n"
          ]
        }
      ]
    }
  ]
}